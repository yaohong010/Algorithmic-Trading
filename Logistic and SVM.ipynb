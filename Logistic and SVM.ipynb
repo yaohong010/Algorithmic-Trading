{
 "cells": [
  {
   "cell_type": "markdown",
   "metadata": {},
   "source": [
    "## 1. Get Data"
   ]
  },
  {
   "cell_type": "code",
   "execution_count": 1,
   "metadata": {},
   "outputs": [],
   "source": [
    "import tushare as ts\n",
    "import numpy as np\n",
    "import pandas as pd\n",
    "import matplotlib.pyplot as plt\n",
    "import seaborn as sns\n",
    "import datetime\n",
    "import matplotlib.ticker as mtick\n",
    "import warnings\n",
    "warnings.filterwarnings(\"ignore\")"
   ]
  },
  {
   "cell_type": "code",
   "execution_count": 2,
   "metadata": {},
   "outputs": [],
   "source": [
    "pro = ts.pro_api()"
   ]
  },
  {
   "cell_type": "code",
   "execution_count": 3,
   "metadata": {},
   "outputs": [],
   "source": [
    "def get_index_daily(ts_code, start_date):\n",
    "    '''\n",
    "    To get specified index data and formalize it\n",
    "    output: A dataframe corresponds to a data\n",
    "    '''\n",
    "    df = pro.index_daily(ts_code = ts_code, start_date = start_date, end_date = '')\n",
    "    df['trade_date'] = pd.to_datetime(df['trade_date'].astype(str), format = '%Y-%m-%d')\n",
    "    df.set_index('trade_date',inplace=True)\n",
    "    return df.sort_index()"
   ]
  },
  {
   "cell_type": "code",
   "execution_count": 4,
   "metadata": {},
   "outputs": [],
   "source": [
    "# 沪深300\n",
    "df = get_index_daily(ts_code = '000300.SH', start_date = '20200601')"
   ]
  },
  {
   "cell_type": "code",
   "execution_count": 5,
   "metadata": {},
   "outputs": [
    {
     "data": {
      "text/html": [
       "<div>\n",
       "<style scoped>\n",
       "    .dataframe tbody tr th:only-of-type {\n",
       "        vertical-align: middle;\n",
       "    }\n",
       "\n",
       "    .dataframe tbody tr th {\n",
       "        vertical-align: top;\n",
       "    }\n",
       "\n",
       "    .dataframe thead th {\n",
       "        text-align: right;\n",
       "    }\n",
       "</style>\n",
       "<table border=\"1\" class=\"dataframe\">\n",
       "  <thead>\n",
       "    <tr style=\"text-align: right;\">\n",
       "      <th></th>\n",
       "      <th>ts_code</th>\n",
       "      <th>close</th>\n",
       "      <th>open</th>\n",
       "      <th>high</th>\n",
       "      <th>low</th>\n",
       "      <th>pre_close</th>\n",
       "      <th>change</th>\n",
       "      <th>pct_chg</th>\n",
       "      <th>vol</th>\n",
       "      <th>amount</th>\n",
       "    </tr>\n",
       "    <tr>\n",
       "      <th>trade_date</th>\n",
       "      <th></th>\n",
       "      <th></th>\n",
       "      <th></th>\n",
       "      <th></th>\n",
       "      <th></th>\n",
       "      <th></th>\n",
       "      <th></th>\n",
       "      <th></th>\n",
       "      <th></th>\n",
       "      <th></th>\n",
       "    </tr>\n",
       "  </thead>\n",
       "  <tbody>\n",
       "    <tr>\n",
       "      <th>2020-06-01</th>\n",
       "      <td>000300.SH</td>\n",
       "      <td>3971.3402</td>\n",
       "      <td>3901.7263</td>\n",
       "      <td>3976.3151</td>\n",
       "      <td>3901.7263</td>\n",
       "      <td>3867.0232</td>\n",
       "      <td>104.3170</td>\n",
       "      <td>2.6976</td>\n",
       "      <td>136456652.0</td>\n",
       "      <td>2.084365e+08</td>\n",
       "    </tr>\n",
       "    <tr>\n",
       "      <th>2020-06-02</th>\n",
       "      <td>000300.SH</td>\n",
       "      <td>3983.5677</td>\n",
       "      <td>3969.9521</td>\n",
       "      <td>3991.7761</td>\n",
       "      <td>3958.9774</td>\n",
       "      <td>3971.3402</td>\n",
       "      <td>12.2275</td>\n",
       "      <td>0.3079</td>\n",
       "      <td>144303060.0</td>\n",
       "      <td>1.955633e+08</td>\n",
       "    </tr>\n",
       "    <tr>\n",
       "      <th>2020-06-03</th>\n",
       "      <td>000300.SH</td>\n",
       "      <td>3983.6477</td>\n",
       "      <td>4001.1708</td>\n",
       "      <td>4018.6759</td>\n",
       "      <td>3982.9299</td>\n",
       "      <td>3983.5677</td>\n",
       "      <td>0.0800</td>\n",
       "      <td>0.0020</td>\n",
       "      <td>136597483.0</td>\n",
       "      <td>2.008828e+08</td>\n",
       "    </tr>\n",
       "    <tr>\n",
       "      <th>2020-06-04</th>\n",
       "      <td>000300.SH</td>\n",
       "      <td>3982.1851</td>\n",
       "      <td>3998.1636</td>\n",
       "      <td>3999.8051</td>\n",
       "      <td>3968.5723</td>\n",
       "      <td>3983.6477</td>\n",
       "      <td>-1.4626</td>\n",
       "      <td>-0.0367</td>\n",
       "      <td>104277737.0</td>\n",
       "      <td>1.490579e+08</td>\n",
       "    </tr>\n",
       "    <tr>\n",
       "      <th>2020-06-05</th>\n",
       "      <td>000300.SH</td>\n",
       "      <td>4001.2509</td>\n",
       "      <td>3988.2239</td>\n",
       "      <td>4001.2509</td>\n",
       "      <td>3967.9260</td>\n",
       "      <td>3982.1851</td>\n",
       "      <td>19.0658</td>\n",
       "      <td>0.4788</td>\n",
       "      <td>102443942.0</td>\n",
       "      <td>1.543113e+08</td>\n",
       "    </tr>\n",
       "  </tbody>\n",
       "</table>\n",
       "</div>"
      ],
      "text/plain": [
       "              ts_code      close       open       high        low  pre_close  \\\n",
       "trade_date                                                                     \n",
       "2020-06-01  000300.SH  3971.3402  3901.7263  3976.3151  3901.7263  3867.0232   \n",
       "2020-06-02  000300.SH  3983.5677  3969.9521  3991.7761  3958.9774  3971.3402   \n",
       "2020-06-03  000300.SH  3983.6477  4001.1708  4018.6759  3982.9299  3983.5677   \n",
       "2020-06-04  000300.SH  3982.1851  3998.1636  3999.8051  3968.5723  3983.6477   \n",
       "2020-06-05  000300.SH  4001.2509  3988.2239  4001.2509  3967.9260  3982.1851   \n",
       "\n",
       "              change  pct_chg          vol        amount  \n",
       "trade_date                                                \n",
       "2020-06-01  104.3170   2.6976  136456652.0  2.084365e+08  \n",
       "2020-06-02   12.2275   0.3079  144303060.0  1.955633e+08  \n",
       "2020-06-03    0.0800   0.0020  136597483.0  2.008828e+08  \n",
       "2020-06-04   -1.4626  -0.0367  104277737.0  1.490579e+08  \n",
       "2020-06-05   19.0658   0.4788  102443942.0  1.543113e+08  "
      ]
     },
     "execution_count": 5,
     "metadata": {},
     "output_type": "execute_result"
    }
   ],
   "source": [
    "df.head()"
   ]
  },
  {
   "cell_type": "code",
   "execution_count": 6,
   "metadata": {},
   "outputs": [
    {
     "data": {
      "text/plain": [
       "<AxesSubplot:xlabel='trade_date'>"
      ]
     },
     "execution_count": 6,
     "metadata": {},
     "output_type": "execute_result"
    },
    {
     "data": {
      "image/png": "[encoded data removed]",
      "text/plain": [
       "<Figure size 432x288 with 1 Axes>"
      ]
     },
     "metadata": {
      "needs_background": "light"
     },
     "output_type": "display_data"
    }
   ],
   "source": [
    "df.close.plot()"
   ]
  },
  {
   "cell_type": "markdown",
   "metadata": {},
   "source": [
    "## 2. Preprocessing"
   ]
  },
  {
   "cell_type": "code",
   "execution_count": 7,
   "metadata": {},
   "outputs": [
    {
     "name": "stdout",
     "output_type": "stream",
     "text": [
      "<class 'pandas.core.frame.DataFrame'>\n",
      "DatetimeIndex: 535 entries, 2020-06-01 to 2022-08-10\n",
      "Data columns (total 10 columns):\n",
      " #   Column     Non-Null Count  Dtype  \n",
      "---  ------     --------------  -----  \n",
      " 0   ts_code    535 non-null    object \n",
      " 1   close      535 non-null    float64\n",
      " 2   open       535 non-null    float64\n",
      " 3   high       535 non-null    float64\n",
      " 4   low        535 non-null    float64\n",
      " 5   pre_close  535 non-null    float64\n",
      " 6   change     535 non-null    float64\n",
      " 7   pct_chg    535 non-null    float64\n",
      " 8   vol        535 non-null    float64\n",
      " 9   amount     535 non-null    float64\n",
      "dtypes: float64(9), object(1)\n",
      "memory usage: 46.0+ KB\n"
     ]
    }
   ],
   "source": [
    "df.info()"
   ]
  },
  {
   "cell_type": "code",
   "execution_count": 8,
   "metadata": {},
   "outputs": [],
   "source": [
    "# df.dropna(inplace = True)"
   ]
  },
  {
   "cell_type": "markdown",
   "metadata": {},
   "source": [
    "## 3. Feature Engineering"
   ]
  },
  {
   "cell_type": "code",
   "execution_count": 9,
   "metadata": {},
   "outputs": [],
   "source": [
    "df_hs = df.copy()"
   ]
  },
  {
   "cell_type": "code",
   "execution_count": 10,
   "metadata": {},
   "outputs": [],
   "source": [
    "for i in range(1, 8):\n",
    "    df_hs['close-' + str(i) + 'd'] = df.close.shift(i)\n",
    "\n",
    "df_hs.dropna(inplace = True)"
   ]
  },
  {
   "cell_type": "code",
   "execution_count": 11,
   "metadata": {},
   "outputs": [],
   "source": [
    "# feature space\n",
    "X_raw = df_hs[df_hs.columns[pd.Series(df_hs.columns).str.startswith('close-')]]"
   ]
  },
  {
   "cell_type": "code",
   "execution_count": 12,
   "metadata": {},
   "outputs": [
    {
     "data": {
      "text/html": [
       "<div>\n",
       "<style scoped>\n",
       "    .dataframe tbody tr th:only-of-type {\n",
       "        vertical-align: middle;\n",
       "    }\n",
       "\n",
       "    .dataframe tbody tr th {\n",
       "        vertical-align: top;\n",
       "    }\n",
       "\n",
       "    .dataframe thead th {\n",
       "        text-align: right;\n",
       "    }\n",
       "</style>\n",
       "<table border=\"1\" class=\"dataframe\">\n",
       "  <thead>\n",
       "    <tr style=\"text-align: right;\">\n",
       "      <th></th>\n",
       "      <th>close-1d</th>\n",
       "      <th>close-2d</th>\n",
       "      <th>close-3d</th>\n",
       "      <th>close-4d</th>\n",
       "      <th>close-5d</th>\n",
       "      <th>close-6d</th>\n",
       "      <th>close-7d</th>\n",
       "    </tr>\n",
       "    <tr>\n",
       "      <th>trade_date</th>\n",
       "      <th></th>\n",
       "      <th></th>\n",
       "      <th></th>\n",
       "      <th></th>\n",
       "      <th></th>\n",
       "      <th></th>\n",
       "      <th></th>\n",
       "    </tr>\n",
       "  </thead>\n",
       "  <tbody>\n",
       "    <tr>\n",
       "      <th>2020-06-10</th>\n",
       "      <td>4047.0293</td>\n",
       "      <td>4021.9549</td>\n",
       "      <td>4001.2509</td>\n",
       "      <td>3982.1851</td>\n",
       "      <td>3983.6477</td>\n",
       "      <td>3983.5677</td>\n",
       "      <td>3971.3402</td>\n",
       "    </tr>\n",
       "    <tr>\n",
       "      <th>2020-06-11</th>\n",
       "      <td>4039.7051</td>\n",
       "      <td>4047.0293</td>\n",
       "      <td>4021.9549</td>\n",
       "      <td>4001.2509</td>\n",
       "      <td>3982.1851</td>\n",
       "      <td>3983.6477</td>\n",
       "      <td>3983.5677</td>\n",
       "    </tr>\n",
       "    <tr>\n",
       "      <th>2020-06-12</th>\n",
       "      <td>3995.8846</td>\n",
       "      <td>4039.7051</td>\n",
       "      <td>4047.0293</td>\n",
       "      <td>4021.9549</td>\n",
       "      <td>4001.2509</td>\n",
       "      <td>3982.1851</td>\n",
       "      <td>3983.6477</td>\n",
       "    </tr>\n",
       "    <tr>\n",
       "      <th>2020-06-15</th>\n",
       "      <td>4003.0829</td>\n",
       "      <td>3995.8846</td>\n",
       "      <td>4039.7051</td>\n",
       "      <td>4047.0293</td>\n",
       "      <td>4021.9549</td>\n",
       "      <td>4001.2509</td>\n",
       "      <td>3982.1851</td>\n",
       "    </tr>\n",
       "    <tr>\n",
       "      <th>2020-06-16</th>\n",
       "      <td>3954.9883</td>\n",
       "      <td>4003.0829</td>\n",
       "      <td>3995.8846</td>\n",
       "      <td>4039.7051</td>\n",
       "      <td>4047.0293</td>\n",
       "      <td>4021.9549</td>\n",
       "      <td>4001.2509</td>\n",
       "    </tr>\n",
       "  </tbody>\n",
       "</table>\n",
       "</div>"
      ],
      "text/plain": [
       "             close-1d   close-2d   close-3d   close-4d   close-5d   close-6d  \\\n",
       "trade_date                                                                     \n",
       "2020-06-10  4047.0293  4021.9549  4001.2509  3982.1851  3983.6477  3983.5677   \n",
       "2020-06-11  4039.7051  4047.0293  4021.9549  4001.2509  3982.1851  3983.6477   \n",
       "2020-06-12  3995.8846  4039.7051  4047.0293  4021.9549  4001.2509  3982.1851   \n",
       "2020-06-15  4003.0829  3995.8846  4039.7051  4047.0293  4021.9549  4001.2509   \n",
       "2020-06-16  3954.9883  4003.0829  3995.8846  4039.7051  4047.0293  4021.9549   \n",
       "\n",
       "             close-7d  \n",
       "trade_date             \n",
       "2020-06-10  3971.3402  \n",
       "2020-06-11  3983.5677  \n",
       "2020-06-12  3983.6477  \n",
       "2020-06-15  3982.1851  \n",
       "2020-06-16  4001.2509  "
      ]
     },
     "execution_count": 12,
     "metadata": {},
     "output_type": "execute_result"
    }
   ],
   "source": [
    "X_raw.head()"
   ]
  },
  {
   "cell_type": "code",
   "execution_count": 13,
   "metadata": {},
   "outputs": [],
   "source": [
    "df_hs['trend'] = np.where(df_hs['change'] > 0, 1, 0)"
   ]
  },
  {
   "cell_type": "code",
   "execution_count": 14,
   "metadata": {},
   "outputs": [],
   "source": [
    "# target variable\n",
    "y = df_hs.trend"
   ]
  },
  {
   "cell_type": "code",
   "execution_count": 15,
   "metadata": {},
   "outputs": [
    {
     "name": "stdout",
     "output_type": "stream",
     "text": [
      "(528, 7) (528,)\n"
     ]
    }
   ],
   "source": [
    "print(X_raw.shape, y.shape)"
   ]
  },
  {
   "cell_type": "code",
   "execution_count": 16,
   "metadata": {},
   "outputs": [],
   "source": [
    "# Standardize data\n",
    "from sklearn.preprocessing import StandardScaler\n",
    "\n",
    "scaler = StandardScaler()"
   ]
  },
  {
   "cell_type": "code",
   "execution_count": 17,
   "metadata": {},
   "outputs": [],
   "source": [
    "X = scaler.fit_transform(X_raw)"
   ]
  },
  {
   "cell_type": "markdown",
   "metadata": {},
   "source": [
    "## 4. Modeling Training"
   ]
  },
  {
   "cell_type": "code",
   "execution_count": 18,
   "metadata": {},
   "outputs": [],
   "source": [
    "from sklearn.model_selection import train_test_split\n",
    "from sklearn.linear_model import LogisticRegression\n",
    "from sklearn.svm import SVC\n",
    "from sklearn.metrics import f1_score"
   ]
  },
  {
   "cell_type": "code",
   "execution_count": 19,
   "metadata": {},
   "outputs": [],
   "source": [
    "X_train, X_test, y_train, y_test = train_test_split(X, y, test_size=0.25, stratify = y, random_state=1) #stratified sampling"
   ]
  },
  {
   "cell_type": "code",
   "execution_count": 20,
   "metadata": {},
   "outputs": [],
   "source": [
    "# Logistic Regression\n",
    "lg = LogisticRegression().fit(X_train, y_train)"
   ]
  },
  {
   "cell_type": "code",
   "execution_count": 21,
   "metadata": {},
   "outputs": [
    {
     "data": {
      "text/plain": [
       "0.6365503080082136"
      ]
     },
     "execution_count": 21,
     "metadata": {},
     "output_type": "execute_result"
    }
   ],
   "source": [
    "# train f1 score\n",
    "f1_score(y_train, lg.predict(X_train))"
   ]
  },
  {
   "cell_type": "code",
   "execution_count": 22,
   "metadata": {},
   "outputs": [
    {
     "data": {
      "text/plain": [
       "0.6463414634146342"
      ]
     },
     "execution_count": 22,
     "metadata": {},
     "output_type": "execute_result"
    }
   ],
   "source": [
    "# test f1 score\n",
    "f1_score(y_test, lg.predict(X_test))"
   ]
  },
  {
   "cell_type": "code",
   "execution_count": 23,
   "metadata": {},
   "outputs": [],
   "source": [
    "# SVM\n",
    "sv = SVC().fit(X_train, y_train)"
   ]
  },
  {
   "cell_type": "code",
   "execution_count": 24,
   "metadata": {},
   "outputs": [
    {
     "data": {
      "text/plain": [
       "0.6476578411405295"
      ]
     },
     "execution_count": 24,
     "metadata": {},
     "output_type": "execute_result"
    }
   ],
   "source": [
    "# train f1 score\n",
    "f1_score(y_train, sv.predict(X_train))"
   ]
  },
  {
   "cell_type": "code",
   "execution_count": 25,
   "metadata": {},
   "outputs": [
    {
     "data": {
      "text/plain": [
       "0.5838509316770187"
      ]
     },
     "execution_count": 25,
     "metadata": {},
     "output_type": "execute_result"
    }
   ],
   "source": [
    "# test f1 score\n",
    "f1_score(y_test, sv.predict(X_test))"
   ]
  },
  {
   "cell_type": "markdown",
   "metadata": {},
   "source": [
    "### 4.1 Hyperparameter Tuning"
   ]
  },
  {
   "cell_type": "markdown",
   "metadata": {},
   "source": [
    "#### Logistic Regression"
   ]
  },
  {
   "cell_type": "code",
   "execution_count": 26,
   "metadata": {},
   "outputs": [],
   "source": [
    "from sklearn.model_selection import GridSearchCV"
   ]
  },
  {
   "cell_type": "code",
   "execution_count": 28,
   "metadata": {},
   "outputs": [],
   "source": [
    "param_lg = {\n",
    "    'tol':[0.01,0.001,0.0001],\n",
    "    'penalty': ['none', 'l1', 'l2'], # improvement on out-of-sample prediction\n",
    "    'C': [10, 1.0, 0.1, 0.01, 0.001], \n",
    "    'solver': ['lbfgs', 'liblinear']\n",
    "}"
   ]
  },
  {
   "cell_type": "code",
   "execution_count": 29,
   "metadata": {},
   "outputs": [],
   "source": [
    "lg_tuned = GridSearchCV(estimator = LogisticRegression(),\n",
    "                        param_grid = param_lg, \n",
    "                        scoring = 'f1')"
   ]
  },
  {
   "cell_type": "code",
   "execution_count": 30,
   "metadata": {},
   "outputs": [
    {
     "data": {
      "text/plain": [
       "GridSearchCV(estimator=LogisticRegression(),\n",
       "             param_grid={'C': [10, 1.0, 0.1, 0.01, 0.001],\n",
       "                         'penalty': ['none', 'l1', 'l2'],\n",
       "                         'solver': ['lbfgs', 'liblinear'],\n",
       "                         'tol': [0.01, 0.001, 0.0001]},\n",
       "             scoring='f1')"
      ]
     },
     "execution_count": 30,
     "metadata": {},
     "output_type": "execute_result"
    }
   ],
   "source": [
    "lg_tuned.fit(X_train, y_train)"
   ]
  },
  {
   "cell_type": "code",
   "execution_count": 31,
   "metadata": {},
   "outputs": [
    {
     "name": "stdout",
     "output_type": "stream",
     "text": [
      "{'C': 0.001, 'penalty': 'l2', 'solver': 'lbfgs', 'tol': 0.01}\n"
     ]
    }
   ],
   "source": [
    "print(lg_tuned.best_params_)"
   ]
  },
  {
   "cell_type": "markdown",
   "metadata": {},
   "source": [
    "#### Support Vector Machine Classifier"
   ]
  },
  {
   "cell_type": "code",
   "execution_count": 32,
   "metadata": {},
   "outputs": [],
   "source": [
    "param_sv = {'kernel':('linear', 'rbf'), 'C':[1, 10, 0.1, 0.01, 0.001]}"
   ]
  },
  {
   "cell_type": "code",
   "execution_count": 33,
   "metadata": {},
   "outputs": [],
   "source": [
    "sv_tuned = GridSearchCV(estimator = SVC(),\n",
    "                        param_grid = param_sv, \n",
    "                        scoring = 'f1')"
   ]
  },
  {
   "cell_type": "code",
   "execution_count": 34,
   "metadata": {},
   "outputs": [
    {
     "data": {
      "text/plain": [
       "GridSearchCV(estimator=SVC(),\n",
       "             param_grid={'C': [1, 10, 0.1, 0.01, 0.001],\n",
       "                         'kernel': ('linear', 'rbf')},\n",
       "             scoring='f1')"
      ]
     },
     "execution_count": 34,
     "metadata": {},
     "output_type": "execute_result"
    }
   ],
   "source": [
    "sv_tuned.fit(X_train, y_train)"
   ]
  },
  {
   "cell_type": "code",
   "execution_count": 35,
   "metadata": {},
   "outputs": [
    {
     "name": "stdout",
     "output_type": "stream",
     "text": [
      "{'C': 0.1, 'kernel': 'rbf'}\n"
     ]
    }
   ],
   "source": [
    "print(sv_tuned.best_params_)"
   ]
  },
  {
   "cell_type": "code",
   "execution_count": 36,
   "metadata": {},
   "outputs": [
    {
     "data": {
      "image/png": "[encoded data removed]",
      "text/plain": [
       "<Figure size 432x288 with 2 Axes>"
      ]
     },
     "metadata": {
      "needs_background": "light"
     },
     "output_type": "display_data"
    }
   ],
   "source": [
    "SV_models = pd.DataFrame(sv_tuned.cv_results_)\n",
    "res = (SV_models.pivot(index='param_kernel', columns='param_C', values='mean_test_score'))\n",
    "_ = sns.heatmap(res, cmap='viridis')"
   ]
  },
  {
   "cell_type": "markdown",
   "metadata": {},
   "source": [
    "## 5. Model Evaluation"
   ]
  },
  {
   "cell_type": "code",
   "execution_count": 37,
   "metadata": {},
   "outputs": [],
   "source": [
    "lg_clf = lg_tuned.best_estimator_"
   ]
  },
  {
   "cell_type": "code",
   "execution_count": 38,
   "metadata": {},
   "outputs": [
    {
     "data": {
      "text/plain": [
       "LogisticRegression(C=0.001, tol=0.01)"
      ]
     },
     "execution_count": 38,
     "metadata": {},
     "output_type": "execute_result"
    }
   ],
   "source": [
    "lg_clf.fit(X_train, y_train)"
   ]
  },
  {
   "cell_type": "code",
   "execution_count": 39,
   "metadata": {},
   "outputs": [
    {
     "name": "stdout",
     "output_type": "stream",
     "text": [
      "Logistic Regression: \n",
      " In-sample f1 score: 0.6887417218543047 \n",
      " Out-of-sample f1 score: 0.693069306930693\n"
     ]
    }
   ],
   "source": [
    "# f1 score of Logistic Regression\n",
    "\n",
    "print(\"Logistic Regression: \\n\", \n",
    "      \"In-sample f1 score: \" + str(f1_score(y_train, lg_clf.predict(X_train))), \n",
    "      '\\n', \n",
    "      \"Out-of-sample f1 score: \" + str(f1_score(y_test, lg_clf.predict(X_test))))"
   ]
  },
  {
   "cell_type": "code",
   "execution_count": 40,
   "metadata": {},
   "outputs": [],
   "source": [
    "sv_clf = sv_tuned.best_estimator_"
   ]
  },
  {
   "cell_type": "code",
   "execution_count": 41,
   "metadata": {},
   "outputs": [
    {
     "data": {
      "text/plain": [
       "SVC(C=0.1)"
      ]
     },
     "execution_count": 41,
     "metadata": {},
     "output_type": "execute_result"
    }
   ],
   "source": [
    "sv_clf.fit(X_train, y_train)"
   ]
  },
  {
   "cell_type": "code",
   "execution_count": 42,
   "metadata": {},
   "outputs": [
    {
     "name": "stdout",
     "output_type": "stream",
     "text": [
      "Support Vector Machine: \n",
      " In-sample accuracy: 0.6887417218543047 \n",
      " Out-of-sample accuracy: 0.693069306930693\n"
     ]
    }
   ],
   "source": [
    "# f1 score of Support Vector Machine\n",
    "print(\"Support Vector Machine:\", \"\\n\", \n",
    "        \"In-sample accuracy: \" + str(f1_score(y_train, sv_clf.predict(X_train))), \n",
    "      '\\n', \n",
    "      \"Out-of-sample accuracy: \" + str(f1_score(y_test, sv_clf.predict(X_test))))\n"
   ]
  },
  {
   "cell_type": "code",
   "execution_count": 43,
   "metadata": {},
   "outputs": [
    {
     "data": {
      "text/plain": [
       "(array([0, 1]), array([62, 70], dtype=int64))"
      ]
     },
     "execution_count": 43,
     "metadata": {},
     "output_type": "execute_result"
    }
   ],
   "source": [
    "np.unique(y_test, return_counts=True)"
   ]
  },
  {
   "cell_type": "code",
   "execution_count": 44,
   "metadata": {},
   "outputs": [
    {
     "data": {
      "text/plain": [
       "array([1, 1, 1, 1, 1, 1, 1, 1, 1, 1, 1, 1, 1, 1, 1, 1, 1, 1, 1, 1, 1, 1,\n",
       "       1, 1, 1, 1, 1, 1, 1, 1, 1, 1, 1, 1, 1, 1, 1, 1, 1, 1, 1, 1, 1, 1,\n",
       "       1, 1, 1, 1, 1, 1, 1, 1, 1, 1, 1, 1, 1, 1, 1, 1, 1, 1, 1, 1, 1, 1,\n",
       "       1, 1, 1, 1, 1, 1, 1, 1, 1, 1, 1, 1, 1, 1, 1, 1, 1, 1, 1, 1, 1, 1,\n",
       "       1, 1, 1, 1, 1, 1, 1, 1, 1, 1, 1, 1, 1, 1, 1, 1, 1, 1, 1, 1, 1, 1,\n",
       "       1, 1, 1, 1, 1, 1, 1, 1, 1, 1, 1, 1, 1, 1, 1, 1, 1, 1, 1, 1, 1, 1])"
      ]
     },
     "execution_count": 44,
     "metadata": {},
     "output_type": "execute_result"
    }
   ],
   "source": [
    "lg_clf.predict(X_test)"
   ]
  },
  {
   "cell_type": "code",
   "execution_count": 45,
   "metadata": {},
   "outputs": [
    {
     "data": {
      "text/plain": [
       "array([1, 1, 1, 1, 1, 1, 1, 1, 1, 1, 1, 1, 1, 1, 1, 1, 1, 1, 1, 1, 1, 1,\n",
       "       1, 1, 1, 1, 1, 1, 1, 1, 1, 1, 1, 1, 1, 1, 1, 1, 1, 1, 1, 1, 1, 1,\n",
       "       1, 1, 1, 1, 1, 1, 1, 1, 1, 1, 1, 1, 1, 1, 1, 1, 1, 1, 1, 1, 1, 1,\n",
       "       1, 1, 1, 1, 1, 1, 1, 1, 1, 1, 1, 1, 1, 1, 1, 1, 1, 1, 1, 1, 1, 1,\n",
       "       1, 1, 1, 1, 1, 1, 1, 1, 1, 1, 1, 1, 1, 1, 1, 1, 1, 1, 1, 1, 1, 1,\n",
       "       1, 1, 1, 1, 1, 1, 1, 1, 1, 1, 1, 1, 1, 1, 1, 1, 1, 1, 1, 1, 1, 1])"
      ]
     },
     "execution_count": 45,
     "metadata": {},
     "output_type": "execute_result"
    }
   ],
   "source": [
    "sv_clf.predict(X_test)"
   ]
  },
  {
   "cell_type": "markdown",
   "metadata": {},
   "source": [
    "### Limitation"
   ]
  },
  {
   "cell_type": "markdown",
   "metadata": {},
   "source": [
    "Although the f1 score of both models did increase, the predicted output of these 2 models don't seem to be intelligent."
   ]
  }
 ],
 "metadata": {
  "kernelspec": {
   "display_name": "Python 3",
   "language": "python",
   "name": "python3"
  },
  "language_info": {
   "codemirror_mode": {
    "name": "ipython",
    "version": 3
   },
   "file_extension": ".py",
   "mimetype": "text/x-python",
   "name": "python",
   "nbconvert_exporter": "python",
   "pygments_lexer": "ipython3",
   "version": "3.8.3"
  }
 },
 "nbformat": 4,
 "nbformat_minor": 4
}
