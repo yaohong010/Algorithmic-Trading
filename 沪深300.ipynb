{
 "cells": [
  {
   "cell_type": "code",
   "execution_count": 1,
   "metadata": {},
   "outputs": [],
   "source": [
    "import tushare as ts\n",
    "import pandas as pd\n",
    "import numpy as np\n",
    "import matplotlib.pyplot as plt\n",
    "import seaborn as sns"
   ]
  },
  {
   "cell_type": "code",
   "execution_count": 2,
   "metadata": {},
   "outputs": [],
   "source": [
    "import datetime"
   ]
  },
  {
   "cell_type": "code",
   "execution_count": 3,
   "metadata": {},
   "outputs": [],
   "source": [
    "pro = ts.pro_api()"
   ]
  },
  {
   "cell_type": "code",
   "execution_count": 4,
   "metadata": {},
   "outputs": [],
   "source": [
    "# help(ts.get_k_data)"
   ]
  },
  {
   "cell_type": "code",
   "execution_count": 5,
   "metadata": {},
   "outputs": [],
   "source": [
    "# df2 = ts.get_k_data(code = 'hs300', start = '2020-09-01', end = '', ktype = 'D')"
   ]
  },
  {
   "cell_type": "code",
   "execution_count": 6,
   "metadata": {},
   "outputs": [],
   "source": [
    "# df2.tail(5)"
   ]
  },
  {
   "cell_type": "code",
   "execution_count": 7,
   "metadata": {},
   "outputs": [],
   "source": [
    "df = pro.index_basic(ts_code='000300.SH')"
   ]
  },
  {
   "cell_type": "code",
   "execution_count": 8,
   "metadata": {},
   "outputs": [
    {
     "data": {
      "text/html": [
       "<div>\n",
       "<style scoped>\n",
       "    .dataframe tbody tr th:only-of-type {\n",
       "        vertical-align: middle;\n",
       "    }\n",
       "\n",
       "    .dataframe tbody tr th {\n",
       "        vertical-align: top;\n",
       "    }\n",
       "\n",
       "    .dataframe thead th {\n",
       "        text-align: right;\n",
       "    }\n",
       "</style>\n",
       "<table border=\"1\" class=\"dataframe\">\n",
       "  <thead>\n",
       "    <tr style=\"text-align: right;\">\n",
       "      <th></th>\n",
       "      <th>ts_code</th>\n",
       "      <th>name</th>\n",
       "      <th>market</th>\n",
       "      <th>publisher</th>\n",
       "      <th>category</th>\n",
       "      <th>base_date</th>\n",
       "      <th>base_point</th>\n",
       "      <th>list_date</th>\n",
       "    </tr>\n",
       "  </thead>\n",
       "  <tbody>\n",
       "    <tr>\n",
       "      <th>0</th>\n",
       "      <td>000300.SH</td>\n",
       "      <td>沪深300</td>\n",
       "      <td>SSE</td>\n",
       "      <td>中证公司</td>\n",
       "      <td>规模指数</td>\n",
       "      <td>20041231</td>\n",
       "      <td>1000.0</td>\n",
       "      <td>20050408</td>\n",
       "    </tr>\n",
       "  </tbody>\n",
       "</table>\n",
       "</div>"
      ],
      "text/plain": [
       "     ts_code   name market publisher category base_date  base_point list_date\n",
       "0  000300.SH  沪深300    SSE      中证公司     规模指数  20041231      1000.0  20050408"
      ]
     },
     "execution_count": 8,
     "metadata": {},
     "output_type": "execute_result"
    }
   ],
   "source": [
    "df.head(5)"
   ]
  },
  {
   "cell_type": "code",
   "execution_count": 9,
   "metadata": {},
   "outputs": [],
   "source": [
    "df = pro.index_daily(ts_code = '000300.SH', start_date='20200901', end_date='')"
   ]
  },
  {
   "cell_type": "code",
   "execution_count": 10,
   "metadata": {},
   "outputs": [
    {
     "data": {
      "text/html": [
       "<div>\n",
       "<style scoped>\n",
       "    .dataframe tbody tr th:only-of-type {\n",
       "        vertical-align: middle;\n",
       "    }\n",
       "\n",
       "    .dataframe tbody tr th {\n",
       "        vertical-align: top;\n",
       "    }\n",
       "\n",
       "    .dataframe thead th {\n",
       "        text-align: right;\n",
       "    }\n",
       "</style>\n",
       "<table border=\"1\" class=\"dataframe\">\n",
       "  <thead>\n",
       "    <tr style=\"text-align: right;\">\n",
       "      <th></th>\n",
       "      <th>ts_code</th>\n",
       "      <th>trade_date</th>\n",
       "      <th>close</th>\n",
       "      <th>open</th>\n",
       "      <th>high</th>\n",
       "      <th>low</th>\n",
       "      <th>pre_close</th>\n",
       "      <th>change</th>\n",
       "      <th>pct_chg</th>\n",
       "      <th>vol</th>\n",
       "      <th>amount</th>\n",
       "    </tr>\n",
       "  </thead>\n",
       "  <tbody>\n",
       "    <tr>\n",
       "      <th>0</th>\n",
       "      <td>000300.SH</td>\n",
       "      <td>20220628</td>\n",
       "      <td>4490.5166</td>\n",
       "      <td>4442.5811</td>\n",
       "      <td>4497.8949</td>\n",
       "      <td>4407.3519</td>\n",
       "      <td>4444.2639</td>\n",
       "      <td>46.2527</td>\n",
       "      <td>1.0407</td>\n",
       "      <td>174756489.0</td>\n",
       "      <td>3.616860e+08</td>\n",
       "    </tr>\n",
       "    <tr>\n",
       "      <th>1</th>\n",
       "      <td>000300.SH</td>\n",
       "      <td>20220627</td>\n",
       "      <td>4444.2639</td>\n",
       "      <td>4414.3321</td>\n",
       "      <td>4472.6948</td>\n",
       "      <td>4414.3321</td>\n",
       "      <td>4394.7723</td>\n",
       "      <td>49.4916</td>\n",
       "      <td>1.1261</td>\n",
       "      <td>177385676.0</td>\n",
       "      <td>3.814330e+08</td>\n",
       "    </tr>\n",
       "    <tr>\n",
       "      <th>2</th>\n",
       "      <td>000300.SH</td>\n",
       "      <td>20220624</td>\n",
       "      <td>4394.7723</td>\n",
       "      <td>4354.5530</td>\n",
       "      <td>4400.6852</td>\n",
       "      <td>4346.1221</td>\n",
       "      <td>4343.8781</td>\n",
       "      <td>50.8942</td>\n",
       "      <td>1.1716</td>\n",
       "      <td>168972199.0</td>\n",
       "      <td>3.560548e+08</td>\n",
       "    </tr>\n",
       "    <tr>\n",
       "      <th>3</th>\n",
       "      <td>000300.SH</td>\n",
       "      <td>20220623</td>\n",
       "      <td>4343.8781</td>\n",
       "      <td>4277.9555</td>\n",
       "      <td>4343.8781</td>\n",
       "      <td>4260.9002</td>\n",
       "      <td>4270.6227</td>\n",
       "      <td>73.2554</td>\n",
       "      <td>1.7153</td>\n",
       "      <td>170882360.0</td>\n",
       "      <td>3.271448e+08</td>\n",
       "    </tr>\n",
       "    <tr>\n",
       "      <th>4</th>\n",
       "      <td>000300.SH</td>\n",
       "      <td>20220622</td>\n",
       "      <td>4270.6227</td>\n",
       "      <td>4331.9020</td>\n",
       "      <td>4333.1827</td>\n",
       "      <td>4269.2456</td>\n",
       "      <td>4325.5657</td>\n",
       "      <td>-54.9430</td>\n",
       "      <td>-1.2702</td>\n",
       "      <td>158565854.0</td>\n",
       "      <td>2.986563e+08</td>\n",
       "    </tr>\n",
       "  </tbody>\n",
       "</table>\n",
       "</div>"
      ],
      "text/plain": [
       "     ts_code trade_date      close       open       high        low  \\\n",
       "0  000300.SH   20220628  4490.5166  4442.5811  4497.8949  4407.3519   \n",
       "1  000300.SH   20220627  4444.2639  4414.3321  4472.6948  4414.3321   \n",
       "2  000300.SH   20220624  4394.7723  4354.5530  4400.6852  4346.1221   \n",
       "3  000300.SH   20220623  4343.8781  4277.9555  4343.8781  4260.9002   \n",
       "4  000300.SH   20220622  4270.6227  4331.9020  4333.1827  4269.2456   \n",
       "\n",
       "   pre_close   change  pct_chg          vol        amount  \n",
       "0  4444.2639  46.2527   1.0407  174756489.0  3.616860e+08  \n",
       "1  4394.7723  49.4916   1.1261  177385676.0  3.814330e+08  \n",
       "2  4343.8781  50.8942   1.1716  168972199.0  3.560548e+08  \n",
       "3  4270.6227  73.2554   1.7153  170882360.0  3.271448e+08  \n",
       "4  4325.5657 -54.9430  -1.2702  158565854.0  2.986563e+08  "
      ]
     },
     "execution_count": 10,
     "metadata": {},
     "output_type": "execute_result"
    }
   ],
   "source": [
    "df.head(5)"
   ]
  },
  {
   "cell_type": "code",
   "execution_count": 11,
   "metadata": {},
   "outputs": [],
   "source": [
    "# convert `trade_date` into datetime format\n",
    "df['trade_date'] = pd.to_datetime(df['trade_date'].astype(str), format='%Y-%m-%d')"
   ]
  },
  {
   "cell_type": "code",
   "execution_count": 12,
   "metadata": {},
   "outputs": [
    {
     "data": {
      "text/plain": [
       "(array([18536., 18628., 18718., 18809., 18901., 18993., 19083., 19174.]),\n",
       " [Text(18536.0, 0, '2020-10'),\n",
       "  Text(18628.0, 0, '2021-01'),\n",
       "  Text(18718.0, 0, '2021-04'),\n",
       "  Text(18809.0, 0, '2021-07'),\n",
       "  Text(18901.0, 0, '2021-10'),\n",
       "  Text(18993.0, 0, '2022-01'),\n",
       "  Text(19083.0, 0, '2022-04'),\n",
       "  Text(19174.0, 0, '2022-07')])"
      ]
     },
     "execution_count": 12,
     "metadata": {},
     "output_type": "execute_result"
    },
    {
     "data": {
      "image/png": "[encoded data removed]",
      "text/plain": [
       "<Figure size 360x360 with 1 Axes>"
      ]
     },
     "metadata": {
      "needs_background": "light"
     },
     "output_type": "display_data"
    }
   ],
   "source": [
    "g = sns.relplot(x=\"trade_date\", y=\"close\", kind=\"line\", data=df)\n",
    "g.fig.suptitle('HS300 during Pandemic')\n",
    "plt.xticks(rotation=270)"
   ]
  }
 ],
 "metadata": {
  "kernelspec": {
   "display_name": "Python 3",
   "language": "python",
   "name": "python3"
  },
  "language_info": {
   "codemirror_mode": {
    "name": "ipython",
    "version": 3
   },
   "file_extension": ".py",
   "mimetype": "text/x-python",
   "name": "python",
   "nbconvert_exporter": "python",
   "pygments_lexer": "ipython3",
   "version": "3.8.3"
  }
 },
 "nbformat": 4,
 "nbformat_minor": 4
}
