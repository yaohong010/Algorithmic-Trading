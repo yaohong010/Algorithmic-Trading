{
 "cells": [
  {
   "cell_type": "markdown",
   "metadata": {},
   "source": [
    "## Preparation"
   ]
  },
  {
   "cell_type": "code",
   "execution_count": 1,
   "metadata": {},
   "outputs": [],
   "source": [
    "import tushare as ts\n",
    "import numpy as np\n",
    "import pandas as pd\n",
    "import matplotlib.pyplot as plt\n",
    "import seaborn as sns\n",
    "import datetime\n",
    "import matplotlib.ticker as mtick"
   ]
  },
  {
   "cell_type": "code",
   "execution_count": 2,
   "metadata": {},
   "outputs": [],
   "source": [
    "pro = ts.pro_api()"
   ]
  },
  {
   "cell_type": "code",
   "execution_count": 3,
   "metadata": {},
   "outputs": [],
   "source": [
    "def get_daily(ts_code, start_date):\n",
    " '''\n",
    " To get specified index data and formalize it\n",
    " \n",
    " \n",
    " output: A dataframe corresponds to a data\n",
    " '''\n",
    " df = pro.daily(ts_code = ts_code, start_date = start_date, end_date = '')\n",
    " df['trade_date'] = pd.to_datetime(df['trade_date'].astype(str), format = '%Y-%m-%d')\n",
    " df.set_index('trade_date',inplace=True)\n",
    " return df.sort_index()"
   ]
  },
  {
   "cell_type": "code",
   "execution_count": 4,
   "metadata": {},
   "outputs": [],
   "source": [
    "# 茅台\n",
    "df1 = get_daily(ts_code = '600519.SH', start_date = '20200101')"
   ]
  },
  {
   "cell_type": "code",
   "execution_count": 5,
   "metadata": {},
   "outputs": [],
   "source": [
    "# 五粮液\n",
    "df2 = get_daily(ts_code = '000858.SZ', start_date = '20200101')"
   ]
  },
  {
   "cell_type": "code",
   "execution_count": 6,
   "metadata": {},
   "outputs": [
    {
     "data": {
      "text/html": [
       "<div>\n",
       "<style scoped>\n",
       "    .dataframe tbody tr th:only-of-type {\n",
       "        vertical-align: middle;\n",
       "    }\n",
       "\n",
       "    .dataframe tbody tr th {\n",
       "        vertical-align: top;\n",
       "    }\n",
       "\n",
       "    .dataframe thead th {\n",
       "        text-align: right;\n",
       "    }\n",
       "</style>\n",
       "<table border=\"1\" class=\"dataframe\">\n",
       "  <thead>\n",
       "    <tr style=\"text-align: right;\">\n",
       "      <th></th>\n",
       "      <th>ts_code</th>\n",
       "      <th>open</th>\n",
       "      <th>high</th>\n",
       "      <th>low</th>\n",
       "      <th>close</th>\n",
       "      <th>pre_close</th>\n",
       "      <th>change</th>\n",
       "      <th>pct_chg</th>\n",
       "      <th>vol</th>\n",
       "      <th>amount</th>\n",
       "    </tr>\n",
       "    <tr>\n",
       "      <th>trade_date</th>\n",
       "      <th></th>\n",
       "      <th></th>\n",
       "      <th></th>\n",
       "      <th></th>\n",
       "      <th></th>\n",
       "      <th></th>\n",
       "      <th></th>\n",
       "      <th></th>\n",
       "      <th></th>\n",
       "      <th></th>\n",
       "    </tr>\n",
       "  </thead>\n",
       "  <tbody>\n",
       "    <tr>\n",
       "      <th>2020-01-02</th>\n",
       "      <td>600519.SH</td>\n",
       "      <td>1128.00</td>\n",
       "      <td>1145.06</td>\n",
       "      <td>1116.00</td>\n",
       "      <td>1130.00</td>\n",
       "      <td>1183.00</td>\n",
       "      <td>-53.00</td>\n",
       "      <td>-4.4801</td>\n",
       "      <td>148099.16</td>\n",
       "      <td>1.669684e+07</td>\n",
       "    </tr>\n",
       "    <tr>\n",
       "      <th>2020-01-03</th>\n",
       "      <td>600519.SH</td>\n",
       "      <td>1117.00</td>\n",
       "      <td>1117.00</td>\n",
       "      <td>1076.90</td>\n",
       "      <td>1078.56</td>\n",
       "      <td>1130.00</td>\n",
       "      <td>-51.44</td>\n",
       "      <td>-4.5522</td>\n",
       "      <td>130318.78</td>\n",
       "      <td>1.426638e+07</td>\n",
       "    </tr>\n",
       "    <tr>\n",
       "      <th>2020-01-06</th>\n",
       "      <td>600519.SH</td>\n",
       "      <td>1070.86</td>\n",
       "      <td>1092.90</td>\n",
       "      <td>1067.30</td>\n",
       "      <td>1077.99</td>\n",
       "      <td>1078.56</td>\n",
       "      <td>-0.57</td>\n",
       "      <td>-0.0528</td>\n",
       "      <td>63414.78</td>\n",
       "      <td>6.853918e+06</td>\n",
       "    </tr>\n",
       "    <tr>\n",
       "      <th>2020-01-07</th>\n",
       "      <td>600519.SH</td>\n",
       "      <td>1077.50</td>\n",
       "      <td>1099.00</td>\n",
       "      <td>1076.40</td>\n",
       "      <td>1094.53</td>\n",
       "      <td>1077.99</td>\n",
       "      <td>16.54</td>\n",
       "      <td>1.5343</td>\n",
       "      <td>47853.59</td>\n",
       "      <td>5.220697e+06</td>\n",
       "    </tr>\n",
       "    <tr>\n",
       "      <th>2020-01-08</th>\n",
       "      <td>600519.SH</td>\n",
       "      <td>1085.05</td>\n",
       "      <td>1095.50</td>\n",
       "      <td>1082.58</td>\n",
       "      <td>1088.14</td>\n",
       "      <td>1094.53</td>\n",
       "      <td>-6.39</td>\n",
       "      <td>-0.5838</td>\n",
       "      <td>25008.25</td>\n",
       "      <td>2.720372e+06</td>\n",
       "    </tr>\n",
       "  </tbody>\n",
       "</table>\n",
       "</div>"
      ],
      "text/plain": [
       "              ts_code     open     high      low    close  pre_close  change  \\\n",
       "trade_date                                                                     \n",
       "2020-01-02  600519.SH  1128.00  1145.06  1116.00  1130.00    1183.00  -53.00   \n",
       "2020-01-03  600519.SH  1117.00  1117.00  1076.90  1078.56    1130.00  -51.44   \n",
       "2020-01-06  600519.SH  1070.86  1092.90  1067.30  1077.99    1078.56   -0.57   \n",
       "2020-01-07  600519.SH  1077.50  1099.00  1076.40  1094.53    1077.99   16.54   \n",
       "2020-01-08  600519.SH  1085.05  1095.50  1082.58  1088.14    1094.53   -6.39   \n",
       "\n",
       "            pct_chg        vol        amount  \n",
       "trade_date                                    \n",
       "2020-01-02  -4.4801  148099.16  1.669684e+07  \n",
       "2020-01-03  -4.5522  130318.78  1.426638e+07  \n",
       "2020-01-06  -0.0528   63414.78  6.853918e+06  \n",
       "2020-01-07   1.5343   47853.59  5.220697e+06  \n",
       "2020-01-08  -0.5838   25008.25  2.720372e+06  "
      ]
     },
     "execution_count": 6,
     "metadata": {},
     "output_type": "execute_result"
    }
   ],
   "source": [
    "df1.head()"
   ]
  },
  {
   "cell_type": "code",
   "execution_count": 7,
   "metadata": {},
   "outputs": [
    {
     "data": {
      "text/html": [
       "<div>\n",
       "<style scoped>\n",
       "    .dataframe tbody tr th:only-of-type {\n",
       "        vertical-align: middle;\n",
       "    }\n",
       "\n",
       "    .dataframe tbody tr th {\n",
       "        vertical-align: top;\n",
       "    }\n",
       "\n",
       "    .dataframe thead th {\n",
       "        text-align: right;\n",
       "    }\n",
       "</style>\n",
       "<table border=\"1\" class=\"dataframe\">\n",
       "  <thead>\n",
       "    <tr style=\"text-align: right;\">\n",
       "      <th></th>\n",
       "      <th>ts_code</th>\n",
       "      <th>open</th>\n",
       "      <th>high</th>\n",
       "      <th>low</th>\n",
       "      <th>close</th>\n",
       "      <th>pre_close</th>\n",
       "      <th>change</th>\n",
       "      <th>pct_chg</th>\n",
       "      <th>vol</th>\n",
       "      <th>amount</th>\n",
       "    </tr>\n",
       "    <tr>\n",
       "      <th>trade_date</th>\n",
       "      <th></th>\n",
       "      <th></th>\n",
       "      <th></th>\n",
       "      <th></th>\n",
       "      <th></th>\n",
       "      <th></th>\n",
       "      <th></th>\n",
       "      <th></th>\n",
       "      <th></th>\n",
       "      <th></th>\n",
       "    </tr>\n",
       "  </thead>\n",
       "  <tbody>\n",
       "    <tr>\n",
       "      <th>2020-01-02</th>\n",
       "      <td>000858.SZ</td>\n",
       "      <td>132.00</td>\n",
       "      <td>133.50</td>\n",
       "      <td>129.59</td>\n",
       "      <td>132.08</td>\n",
       "      <td>133.01</td>\n",
       "      <td>-0.93</td>\n",
       "      <td>-0.6992</td>\n",
       "      <td>306674.39</td>\n",
       "      <td>4038536.854</td>\n",
       "    </tr>\n",
       "    <tr>\n",
       "      <th>2020-01-03</th>\n",
       "      <td>000858.SZ</td>\n",
       "      <td>131.60</td>\n",
       "      <td>132.07</td>\n",
       "      <td>129.61</td>\n",
       "      <td>130.55</td>\n",
       "      <td>132.08</td>\n",
       "      <td>-1.53</td>\n",
       "      <td>-1.1584</td>\n",
       "      <td>204692.48</td>\n",
       "      <td>2672531.470</td>\n",
       "    </tr>\n",
       "    <tr>\n",
       "      <th>2020-01-06</th>\n",
       "      <td>000858.SZ</td>\n",
       "      <td>130.00</td>\n",
       "      <td>130.25</td>\n",
       "      <td>128.52</td>\n",
       "      <td>129.20</td>\n",
       "      <td>130.55</td>\n",
       "      <td>-1.35</td>\n",
       "      <td>-1.0341</td>\n",
       "      <td>259369.79</td>\n",
       "      <td>3353682.073</td>\n",
       "    </tr>\n",
       "    <tr>\n",
       "      <th>2020-01-07</th>\n",
       "      <td>000858.SZ</td>\n",
       "      <td>129.50</td>\n",
       "      <td>131.07</td>\n",
       "      <td>129.00</td>\n",
       "      <td>129.37</td>\n",
       "      <td>129.20</td>\n",
       "      <td>0.17</td>\n",
       "      <td>0.1316</td>\n",
       "      <td>223277.93</td>\n",
       "      <td>2901574.233</td>\n",
       "    </tr>\n",
       "    <tr>\n",
       "      <th>2020-01-08</th>\n",
       "      <td>000858.SZ</td>\n",
       "      <td>128.99</td>\n",
       "      <td>129.76</td>\n",
       "      <td>128.05</td>\n",
       "      <td>128.89</td>\n",
       "      <td>129.37</td>\n",
       "      <td>-0.48</td>\n",
       "      <td>-0.3710</td>\n",
       "      <td>161802.18</td>\n",
       "      <td>2083242.871</td>\n",
       "    </tr>\n",
       "  </tbody>\n",
       "</table>\n",
       "</div>"
      ],
      "text/plain": [
       "              ts_code    open    high     low   close  pre_close  change  \\\n",
       "trade_date                                                                 \n",
       "2020-01-02  000858.SZ  132.00  133.50  129.59  132.08     133.01   -0.93   \n",
       "2020-01-03  000858.SZ  131.60  132.07  129.61  130.55     132.08   -1.53   \n",
       "2020-01-06  000858.SZ  130.00  130.25  128.52  129.20     130.55   -1.35   \n",
       "2020-01-07  000858.SZ  129.50  131.07  129.00  129.37     129.20    0.17   \n",
       "2020-01-08  000858.SZ  128.99  129.76  128.05  128.89     129.37   -0.48   \n",
       "\n",
       "            pct_chg        vol       amount  \n",
       "trade_date                                   \n",
       "2020-01-02  -0.6992  306674.39  4038536.854  \n",
       "2020-01-03  -1.1584  204692.48  2672531.470  \n",
       "2020-01-06  -1.0341  259369.79  3353682.073  \n",
       "2020-01-07   0.1316  223277.93  2901574.233  \n",
       "2020-01-08  -0.3710  161802.18  2083242.871  "
      ]
     },
     "execution_count": 7,
     "metadata": {},
     "output_type": "execute_result"
    }
   ],
   "source": [
    "df2.head()"
   ]
  },
  {
   "cell_type": "markdown",
   "metadata": {},
   "source": [
    "## 1. 相关性检验"
   ]
  },
  {
   "cell_type": "code",
   "execution_count": 8,
   "metadata": {},
   "outputs": [
    {
     "data": {
      "text/html": [
       "<div>\n",
       "<style scoped>\n",
       "    .dataframe tbody tr th:only-of-type {\n",
       "        vertical-align: middle;\n",
       "    }\n",
       "\n",
       "    .dataframe tbody tr th {\n",
       "        vertical-align: top;\n",
       "    }\n",
       "\n",
       "    .dataframe thead th {\n",
       "        text-align: right;\n",
       "    }\n",
       "</style>\n",
       "<table border=\"1\" class=\"dataframe\">\n",
       "  <thead>\n",
       "    <tr style=\"text-align: right;\">\n",
       "      <th></th>\n",
       "      <th>c1</th>\n",
       "      <th>c2</th>\n",
       "    </tr>\n",
       "  </thead>\n",
       "  <tbody>\n",
       "    <tr>\n",
       "      <th>c1</th>\n",
       "      <td>1.000000</td>\n",
       "      <td>0.830935</td>\n",
       "    </tr>\n",
       "    <tr>\n",
       "      <th>c2</th>\n",
       "      <td>0.830935</td>\n",
       "      <td>1.000000</td>\n",
       "    </tr>\n",
       "  </tbody>\n",
       "</table>\n",
       "</div>"
      ],
      "text/plain": [
       "          c1        c2\n",
       "c1  1.000000  0.830935\n",
       "c2  0.830935  1.000000"
      ]
     },
     "execution_count": 8,
     "metadata": {},
     "output_type": "execute_result"
    }
   ],
   "source": [
    "df_t = pd.DataFrame({\"c1\": df1.close, \"c2\":df2.close})\n",
    "df_t.corr()"
   ]
  },
  {
   "cell_type": "markdown",
   "metadata": {},
   "source": [
    "### 2. ADF 检验 (平稳性检验)"
   ]
  },
  {
   "cell_type": "code",
   "execution_count": 9,
   "metadata": {},
   "outputs": [
    {
     "name": "stdout",
     "output_type": "stream",
     "text": [
      "(-2.055634499119898, 0.26272409382886386, 0, 615, {'1%': -3.4410277306083668, '5%': -2.8662510413264357, '10%': -2.569278890210853}, 6016.702534184657)\n",
      "(-1.6661504568525438, 0.44863170449675704, 0, 615, {'1%': -3.4410277306083668, '5%': -2.8662510413264357, '10%': -2.569278890210853}, 3818.0785142956975)\n"
     ]
    }
   ],
   "source": [
    "from statsmodels.tsa.stattools import adfuller\n",
    "    \n",
    "print(adfuller(df1.close))\n",
    "print(adfuller(df2.close))"
   ]
  },
  {
   "cell_type": "markdown",
   "metadata": {},
   "source": [
    "As p-values are greater than 0.5, we failed to reject the null hypothesis, and need to conclude that both sequences are not stationary."
   ]
  },
  {
   "cell_type": "code",
   "execution_count": 10,
   "metadata": {},
   "outputs": [
    {
     "name": "stdout",
     "output_type": "stream",
     "text": [
      "(-12.084200021929998, 2.1967471597116567e-22, 3, 611, {'1%': -3.4410979308822967, '5%': -2.8662819588823423, '10%': -2.5692953639629166}, 6011.851922006317)\n",
      "(-23.815349391479796, 0.0, 0, 614, {'1%': -3.4410451945636207, '5%': -2.8662587328558566, '10%': -2.569282988466721}, 3815.412464965263)\n"
     ]
    }
   ],
   "source": [
    "print(adfuller(np.diff(df1.close)))\n",
    "print(adfuller(np.diff(df2.close)))"
   ]
  },
  {
   "cell_type": "markdown",
   "metadata": {},
   "source": [
    "作一阶差分后，两序列都是平稳的，满足协整关系的前提。"
   ]
  },
  {
   "cell_type": "markdown",
   "metadata": {},
   "source": [
    "### 3. 协整检验"
   ]
  },
  {
   "cell_type": "code",
   "execution_count": 11,
   "metadata": {},
   "outputs": [
    {
     "name": "stdout",
     "output_type": "stream",
     "text": [
      "(-1.3101036112097075, 0.8266660914315496, array([-3.91433661, -3.34608316, -3.05135345]))\n"
     ]
    }
   ],
   "source": [
    "from statsmodels.tsa.stattools import coint\n",
    "\n",
    "print(coint(df1.close, df2.close))"
   ]
  },
  {
   "cell_type": "markdown",
   "metadata": {},
   "source": [
    "p-value大于0.05，我们不能否决掉Null hypothesis：两序列非协整。"
   ]
  },
  {
   "cell_type": "markdown",
   "metadata": {},
   "source": [
    "## Task 1: Visualize spread and z-score"
   ]
  },
  {
   "cell_type": "code",
   "execution_count": 12,
   "metadata": {},
   "outputs": [],
   "source": [
    "spread = df1.close - df2.close"
   ]
  },
  {
   "cell_type": "code",
   "execution_count": 13,
   "metadata": {},
   "outputs": [
    {
     "name": "stdout",
     "output_type": "stream",
     "text": [
      "(-2.0420786674075315, 0.26843311102714024, 0, 615, {'1%': -3.4410277306083668, '5%': -2.8662510413264357, '10%': -2.569278890210853}, 5858.347409099702)\n"
     ]
    }
   ],
   "source": [
    "print(adfuller(spread))"
   ]
  },
  {
   "cell_type": "markdown",
   "metadata": {},
   "source": [
    "Spread非平稳"
   ]
  },
  {
   "cell_type": "code",
   "execution_count": 14,
   "metadata": {},
   "outputs": [],
   "source": [
    "plt.rcParams['font.sans-serif']=['SimHei'] #用来正常显示中文标签\n",
    "plt.rcParams['axes.unicode_minus']=False #用来正常显示负号"
   ]
  },
  {
   "cell_type": "code",
   "execution_count": 15,
   "metadata": {},
   "outputs": [
    {
     "data": {
      "text/plain": [
       "<matplotlib.legend.Legend at 0x19a914997f0>"
      ]
     },
     "execution_count": 15,
     "metadata": {},
     "output_type": "execute_result"
    },
    {
     "data": {
      "image/png": "[encoded data removed]",
      "text/plain": [
       "<Figure size 720x432 with 1 Axes>"
      ]
     },
     "metadata": {
      "needs_background": "light"
     },
     "output_type": "display_data"
    }
   ],
   "source": [
    "df1.close.plot(figsize = (10, 6), label = '茅台')\n",
    "df2.close.plot(figsize = (10, 6), label = '五粮液')\n",
    "plt.legend()"
   ]
  },
  {
   "cell_type": "code",
   "execution_count": 16,
   "metadata": {},
   "outputs": [
    {
     "data": {
      "text/plain": [
       "<AxesSubplot:xlabel='trade_date'>"
      ]
     },
     "execution_count": 16,
     "metadata": {},
     "output_type": "execute_result"
    },
    {
     "data": {
      "image/png": "[encoded data removed]",
      "text/plain": [
       "<Figure size 720x432 with 1 Axes>"
      ]
     },
     "metadata": {
      "needs_background": "light"
     },
     "output_type": "display_data"
    }
   ],
   "source": [
    "# spread\n",
    "spread.plot(figsize = (10, 6), color = 'brown')"
   ]
  },
  {
   "cell_type": "code",
   "execution_count": 17,
   "metadata": {},
   "outputs": [
    {
     "data": {
      "text/plain": [
       "<AxesSubplot:xlabel='trade_date'>"
      ]
     },
     "execution_count": 17,
     "metadata": {},
     "output_type": "execute_result"
    },
    {
     "data": {
      "image/png": "[encoded data removed]",
      "text/plain": [
       "<Figure size 720x432 with 1 Axes>"
      ]
     },
     "metadata": {
      "needs_background": "light"
     },
     "output_type": "display_data"
    }
   ],
   "source": [
    "# z-score\n",
    "z = (spread - np.mean(spread))/np.std(spread)\n",
    "\n",
    "z.plot(figsize = (10, 6), color = 'green')"
   ]
  },
  {
   "cell_type": "markdown",
   "metadata": {},
   "source": [
    "## Task 2: Trading Signal"
   ]
  },
  {
   "cell_type": "code",
   "execution_count": 18,
   "metadata": {},
   "outputs": [],
   "source": [
    "def pair_trade(z):\n",
    "    sigma = np.std(z)\n",
    "    fig = plt.figure()\n",
    "    ax = fig.add_subplot(111)\n",
    "    ax.plot(range(len(z)), z)\n",
    "    ax.hlines(0, 0, len(z))\n",
    "    ax.hlines(0.2 * sigma, 0, len(z), linestyle = '--', colors='g') # 开仓\n",
    "    ax.hlines(-0.2 * sigma, 0, len(z), linestyle = '--', colors='g') # 平仓\n",
    "    ax.hlines(1.5 * sigma, 0, len(z), colors='b')\n",
    "    ax.hlines(-1.5 * sigma, 0, len(z), colors='b')\n",
    "    ax.hlines(2.5 * sigma, 0, len(z), colors='r')\n",
    "    ax.hlines(-2.5 * sigma, 0, len(z), colors='r')\n",
    "    plt.show()"
   ]
  },
  {
   "cell_type": "code",
   "execution_count": 19,
   "metadata": {},
   "outputs": [
    {
     "data": {
      "image/png": "[encoded data removed]",
      "text/plain": [
       "<Figure size 432x288 with 1 Axes>"
      ]
     },
     "metadata": {
      "needs_background": "light"
     },
     "output_type": "display_data"
    }
   ],
   "source": [
    "pair_trade(z)"
   ]
  },
  {
   "cell_type": "markdown",
   "metadata": {},
   "source": [
    "- Case1: 當價差上穿 μ+1.5σ時，做空配對股票，反向建倉（賣出茅台；買進五粮液）。\n",
    "- Case2: 當價差下穿 μ+0.2σ時，做多配對股票，平倉。\n",
    "- Case3: 當價差上穿 μ−1.5σ時，做多配對股票，正向建倉（買進茅台；賣出五粮液）。\n",
    "- Case4: 當價差上穿 μ−0.2σ時，做空配對股票，平倉。\n",
    "- Case5: 當價差突破 μ±2.5σ時，即時平倉"
   ]
  },
  {
   "cell_type": "code",
   "execution_count": 20,
   "metadata": {},
   "outputs": [],
   "source": [
    "mu = np.mean(z)\n",
    "sd = np.std(z)"
   ]
  },
  {
   "cell_type": "code",
   "execution_count": 21,
   "metadata": {},
   "outputs": [],
   "source": [
    "# 设置策略区间\n",
    "level = (float('-inf'),mu-2.5*sd,mu-1.5*sd,mu-0.2*sd,mu+0.2*sd,mu+1.5*sd,mu+2.5*sd,float('inf'))"
   ]
  },
  {
   "cell_type": "code",
   "execution_count": 22,
   "metadata": {},
   "outputs": [],
   "source": [
    "# 把交易期的价差序列按照触发区间标准分类【-2，+3】\n",
    "prcLevel = pd.cut(z, level, labels=False) - 3 "
   ]
  },
  {
   "cell_type": "code",
   "execution_count": 23,
   "metadata": {},
   "outputs": [
    {
     "data": {
      "text/plain": [
       "array([-inf, -2.5, -1.5, -0.2,  0.2,  1.5,  2.5,  inf])"
      ]
     },
     "execution_count": 23,
     "metadata": {},
     "output_type": "execute_result"
    }
   ],
   "source": [
    "np.unique(level)"
   ]
  },
  {
   "cell_type": "code",
   "execution_count": 24,
   "metadata": {},
   "outputs": [
    {
     "data": {
      "text/plain": [
       "array([-2, -1,  0,  1,  2,  3], dtype=int64)"
      ]
     },
     "execution_count": 24,
     "metadata": {},
     "output_type": "execute_result"
    }
   ],
   "source": [
    "np.unique(prcLevel)"
   ]
  },
  {
   "cell_type": "code",
   "execution_count": 25,
   "metadata": {},
   "outputs": [],
   "source": [
    "# 构造交易信号函数\n",
    "def PairTradeSig(prcLevel):\n",
    "    n = len(prcLevel)\n",
    "    signal = np.zeros(n)\n",
    "    for i in range(1,n):\n",
    "        if prcLevel[i-1] == 1 and prcLevel[i] == 2:         # 价差从1区上穿2区，反向建仓 (case 1)\n",
    "            signal[i] = -2\n",
    "        elif prcLevel[i-1] == 1 and prcLevel[i] == 0:       # 价差从1区下穿0区，平仓 (case 2)\n",
    "            signal[i] = 2\n",
    "        elif prcLevel[i-1] == 2 and prcLevel[i] == 3:       # 价差从2区上穿3区，即突破3区，平仓 (case 5)\n",
    "            signal[i] = 3\n",
    "        elif prcLevel[i-1] == -1 and prcLevel[i] == -2:     # 价差从-1区下穿-2区，正向建仓 (case 3)\n",
    "            signal[i] = 1\n",
    "        elif prcLevel[i-1] == -1 and prcLevel[i] == 0:      # 价差从-1区上穿0区，平仓 (case 4)\n",
    "            signal[i] = -1\n",
    "        elif prcLevel[i-1] == -2 and prcLevel[i] == -3:     # 价差从-2区下穿-3区，即突破-3区，平仓 (case 5)\n",
    "            signal[i] = -3\n",
    "    return(signal)"
   ]
  },
  {
   "cell_type": "code",
   "execution_count": 26,
   "metadata": {},
   "outputs": [],
   "source": [
    "# 设置每个每天的交易信号\n",
    "signal = PairTradeSig(prcLevel)"
   ]
  },
  {
   "cell_type": "markdown",
   "metadata": {},
   "source": [
    "signal:\n",
    "\n",
    "    1:   正向建仓\n",
    "    \n",
    "    -1： 平仓\n",
    "    \n",
    "    2：  平仓\n",
    "    \n",
    "    -2： 反向建仓\n",
    "    \n",
    "    3：  平仓\n",
    "    \n",
    "    -3： 平仓"
   ]
  },
  {
   "cell_type": "code",
   "execution_count": 27,
   "metadata": {},
   "outputs": [
    {
     "data": {
      "text/plain": [
       "<AxesSubplot:xlabel='trade_date'>"
      ]
     },
     "execution_count": 27,
     "metadata": {},
     "output_type": "execute_result"
    },
    {
     "data": {
      "image/png": "[encoded data removed]",
      "text/plain": [
       "<Figure size 432x288 with 1 Axes>"
      ]
     },
     "metadata": {
      "needs_background": "light"
     },
     "output_type": "display_data"
    }
   ],
   "source": [
    "pd.Series(signal, index = df2.index).plot()"
   ]
  },
  {
   "cell_type": "code",
   "execution_count": 28,
   "metadata": {},
   "outputs": [],
   "source": [
    "position = [signal[0]]\n",
    "ns = len(signal)"
   ]
  },
  {
   "cell_type": "code",
   "execution_count": 29,
   "metadata": {},
   "outputs": [],
   "source": [
    "# 设置每天开仓、平仓指令\n",
    "for i in range(1,ns):\n",
    "    position.append(position[-1])\n",
    "    if signal[i] == 1:\n",
    "        position[i] = 1                 # 价差从-1区下穿-2区，正向建仓: 买B卖A <------（价差为B-A), here B：茅台，A：五粮液\n",
    "    elif signal[i] == -2:\n",
    "        position[i] = -1               # 价差从1区上穿2区，反向建仓：卖B买A <------（价差为B-A）\n",
    "    elif signal[i] == -1 and position[i-1] == 1:\n",
    "        position[i] = 0                # 平仓\n",
    "    elif signal[i] == 2 and position[i-1] == -1:\n",
    "        position[i] = 0               # 平仓\n",
    "    elif signal[i] == 3:\n",
    "        position[i] = 0              # 平仓\n",
    "    elif signal[i] == -3:\n",
    "        position[i] = 0             # 平仓"
   ]
  },
  {
   "cell_type": "code",
   "execution_count": 30,
   "metadata": {},
   "outputs": [],
   "source": [
    "position = pd.Series(position, index=df1.index)"
   ]
  },
  {
   "cell_type": "code",
   "execution_count": 31,
   "metadata": {},
   "outputs": [
    {
     "data": {
      "text/plain": [
       "<AxesSubplot:xlabel='trade_date'>"
      ]
     },
     "execution_count": 31,
     "metadata": {},
     "output_type": "execute_result"
    },
    {
     "data": {
      "image/png": "[encoded data removed]",
      "text/plain": [
       "<Figure size 432x288 with 1 Axes>"
      ]
     },
     "metadata": {
      "needs_background": "light"
     },
     "output_type": "display_data"
    }
   ],
   "source": [
    "# 0: 平仓\n",
    "# -1: 反向建仓\n",
    "position.plot()"
   ]
  },
  {
   "cell_type": "markdown",
   "metadata": {},
   "source": [
    "## Task 3: Cumulative Return"
   ]
  },
  {
   "cell_type": "code",
   "execution_count": 32,
   "metadata": {},
   "outputs": [],
   "source": [
    "trade = pd.DataFrame({\"mt\": df1.close, \"wly\": df2.close, \"position\": position.shift(1)})"
   ]
  },
  {
   "cell_type": "code",
   "execution_count": 33,
   "metadata": {},
   "outputs": [],
   "source": [
    "trade['return'] = np.select([trade['position'] == 1, \n",
    "                              trade['position'] == 0, \n",
    "                              trade['position'] == -1], \n",
    "                             [trade['mt'] * 1 + trade['wly'] * -1, \n",
    "                              0, \n",
    "                              trade['mt'] * -1 + trade['wly'] * 1], \n",
    "                           default = np.nan)"
   ]
  },
  {
   "cell_type": "code",
   "execution_count": 34,
   "metadata": {},
   "outputs": [
    {
     "data": {
      "text/plain": [
       "<AxesSubplot:xlabel='trade_date'>"
      ]
     },
     "execution_count": 34,
     "metadata": {},
     "output_type": "execute_result"
    },
    {
     "data": {
      "image/png": "[encoded data removed]",
      "text/plain": [
       "<Figure size 432x288 with 1 Axes>"
      ]
     },
     "metadata": {
      "needs_background": "light"
     },
     "output_type": "display_data"
    }
   ],
   "source": [
    "trade['return'].cumsum().plot()"
   ]
  },
  {
   "cell_type": "code",
   "execution_count": 35,
   "metadata": {},
   "outputs": [
    {
     "data": {
      "text/plain": [
       "array([-2., -1.,  0.,  2.,  3.])"
      ]
     },
     "execution_count": 35,
     "metadata": {},
     "output_type": "execute_result"
    }
   ],
   "source": [
    "np.unique(signal)"
   ]
  },
  {
   "cell_type": "code",
   "execution_count": 36,
   "metadata": {},
   "outputs": [
    {
     "data": {
      "text/plain": [
       "array([-1.,  0.])"
      ]
     },
     "execution_count": 36,
     "metadata": {},
     "output_type": "execute_result"
    }
   ],
   "source": [
    "np.unique(position)"
   ]
  },
  {
   "cell_type": "markdown",
   "metadata": {},
   "source": [
    "我觉得之所以会出现负收益是因为，在我们的交易信号中没有出现正向建仓的信号。这就导致茅台总是只能处于卖出和持有的状态。而茅台的价格与五粮液差得不少，所以出现了一面倒的状况。"
   ]
  },
  {
   "cell_type": "markdown",
   "metadata": {},
   "source": [
    "下面我尝试把茅台的价格和五粮液的价格standardized后，我们再来看看结果。"
   ]
  },
  {
   "cell_type": "code",
   "execution_count": 37,
   "metadata": {},
   "outputs": [],
   "source": [
    "test_trade = pd.DataFrame({\"mt\": (df1.close - np.mean(df1.close))/np.std(df1.close), \n",
    "                      \"wly\": (df2.close - np.mean(df2.close))/np.std(df2.close), \n",
    "                      \"position\": position.shift(1)})"
   ]
  },
  {
   "cell_type": "code",
   "execution_count": 38,
   "metadata": {},
   "outputs": [],
   "source": [
    "test_trade['return'] = np.select([test_trade['position'] == 1, \n",
    "                              test_trade['position'] == 0, \n",
    "                              test_trade['position'] == -1], \n",
    "                             [test_trade['mt'] * 1 + test_trade['wly'] * -1, \n",
    "                              0, \n",
    "                              test_trade['mt'] * -1 + test_trade['wly'] * 1], \n",
    "                           default = np.nan)"
   ]
  },
  {
   "cell_type": "code",
   "execution_count": 39,
   "metadata": {},
   "outputs": [
    {
     "data": {
      "text/plain": [
       "<AxesSubplot:xlabel='trade_date'>"
      ]
     },
     "execution_count": 39,
     "metadata": {},
     "output_type": "execute_result"
    },
    {
     "data": {
      "image/png": "[encoded data removed]",
      "text/plain": [
       "<Figure size 432x288 with 1 Axes>"
      ]
     },
     "metadata": {
      "needs_background": "light"
     },
     "output_type": "display_data"
    }
   ],
   "source": [
    "test_trade['return'].cumsum().plot()"
   ]
  },
  {
   "cell_type": "markdown",
   "metadata": {},
   "source": [
    "现在我们可以看到，如果是在同一尺度下，我们的收益是存在过正收益得时刻的。"
   ]
  }
 ],
 "metadata": {
  "kernelspec": {
   "display_name": "Python 3",
   "language": "python",
   "name": "python3"
  },
  "language_info": {
   "codemirror_mode": {
    "name": "ipython",
    "version": 3
   },
   "file_extension": ".py",
   "mimetype": "text/x-python",
   "name": "python",
   "nbconvert_exporter": "python",
   "pygments_lexer": "ipython3",
   "version": "3.8.3"
  }
 },
 "nbformat": 4,
 "nbformat_minor": 4
}
